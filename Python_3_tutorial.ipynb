{
  "nbformat": 4,
  "nbformat_minor": 0,
  "metadata": {
    "colab": {
      "name": "Python 3 tutorial",
      "provenance": [],
      "collapsed_sections": [],
      "authorship_tag": "ABX9TyO4KLTmZjH/I8kQ2yDkCZBy",
      "include_colab_link": true
    },
    "kernelspec": {
      "name": "python3",
      "display_name": "Python 3"
    },
    "language_info": {
      "name": "python"
    },
    "accelerator": "GPU"
  },
  "cells": [
    {
      "cell_type": "markdown",
      "metadata": {
        "id": "view-in-github",
        "colab_type": "text"
      },
      "source": [
        "<a href=\"https://colab.research.google.com/github/Roniyvz/py/blob/master/Python_3_tutorial.ipynb\" target=\"_parent\"><img src=\"https://colab.research.google.com/assets/colab-badge.svg\" alt=\"Open In Colab\"/></a>"
      ]
    },
    {
      "cell_type": "markdown",
      "metadata": {
        "id": "8gGCxmxBNMk2"
      },
      "source": [
        "# Defining Functions¶"
      ]
    },
    {
      "cell_type": "code",
      "metadata": {
        "colab": {
          "base_uri": "https://localhost:8080/"
        },
        "id": "lE-Z90muLDA4",
        "outputId": "032c8403-9aa9-4d81-840d-6cb36ec1780b"
      },
      "source": [
        "def fib(n):    # write Fibonacci series up to n\n",
        "    \"\"\"Print a Fibonacci series up to n.\"\"\"\n",
        "    a, b = 0, 1\n",
        "    while a < n:\n",
        "        print(a, end=' ')\n",
        "        a, b = b, a+b\n",
        "    print()\n",
        "\n",
        "# Now call the function we just defined:\n",
        "fib(2000)"
      ],
      "execution_count": null,
      "outputs": [
        {
          "output_type": "stream",
          "text": [
            "0 1 1 2 3 5 8 13 21 34 55 89 144 233 377 610 987 1597 \n"
          ],
          "name": "stdout"
        }
      ]
    },
    {
      "cell_type": "code",
      "metadata": {
        "colab": {
          "base_uri": "https://localhost:8080/"
        },
        "id": "cEaPjk61LXRO",
        "outputId": "05243697-84fe-430c-d58b-f85cf221064f"
      },
      "source": [
        "def fib(n):    # write Fibonacci series up to n\n",
        "    \"\"\"Print a Fibonacci series up to n.\"\"\"\n",
        "    a, b = 0, 1\n",
        "    while a < n:\n",
        "        print(a, end=' ')\n",
        "        a, b = b, a+b\n",
        "fib(2000)"
      ],
      "execution_count": null,
      "outputs": [
        {
          "output_type": "stream",
          "text": [
            "0 1 1 2 3 5 8 13 21 34 55 89 144 233 377 610 987 1597 "
          ],
          "name": "stdout"
        }
      ]
    },
    {
      "cell_type": "code",
      "metadata": {
        "colab": {
          "base_uri": "https://localhost:8080/"
        },
        "id": "Qikp-JpDMG3h",
        "outputId": "d85dd1a5-84b5-4b0d-c65c-24a530e7218c"
      },
      "source": [
        "f = fib\n",
        "print(f)"
      ],
      "execution_count": null,
      "outputs": [
        {
          "output_type": "stream",
          "text": [
            "<function fib at 0x7f136e7303b0>\n"
          ],
          "name": "stdout"
        }
      ]
    },
    {
      "cell_type": "code",
      "metadata": {
        "colab": {
          "base_uri": "https://localhost:8080/"
        },
        "id": "Ja78WqrjMu-w",
        "outputId": "43b91334-5ad8-4b0e-eaad-68a5636d9539"
      },
      "source": [
        "print(f(0))"
      ],
      "execution_count": null,
      "outputs": [
        {
          "output_type": "stream",
          "text": [
            "None\n"
          ],
          "name": "stdout"
        }
      ]
    },
    {
      "cell_type": "code",
      "metadata": {
        "colab": {
          "base_uri": "https://localhost:8080/"
        },
        "id": "oJlsLtwfM4Vd",
        "outputId": "10794362-343d-44ce-871e-7ea5f754a72d"
      },
      "source": [
        "def fib2(n):  # return Fibonacci series up to n\n",
        "    \"\"\"Return a list containing the Fibonacci series up to n.\"\"\"\n",
        "    result = []\n",
        "    a, b = 0, 1\n",
        "    while a < n:\n",
        "        result.append(a)    # see below\n",
        "        a, b = b, a+b\n",
        "    return result\n",
        "\n",
        "f100 = fib2(100)    # call it\n",
        "f100                # write the result"
      ],
      "execution_count": null,
      "outputs": [
        {
          "output_type": "execute_result",
          "data": {
            "text/plain": [
              "[0, 1, 1, 2, 3, 5, 8, 13, 21, 34, 55, 89]"
            ]
          },
          "metadata": {
            "tags": []
          },
          "execution_count": 5
        }
      ]
    },
    {
      "cell_type": "code",
      "metadata": {
        "id": "RxUH-euyNJhg"
      },
      "source": [
        "def ask_ok(prompt, retries=4, reminder='Please try again!'):\n",
        "    while True:\n",
        "        ok = input(prompt)\n",
        "        if ok in ('y', 'ye', 'yes'):\n",
        "            return True\n",
        "        if ok in ('n', 'no', 'nop', 'nope'):\n",
        "            return False\n",
        "        retries = retries - 1\n",
        "        if retries < 0:\n",
        "            raise ValueError('invalid user response')\n",
        "        print(reminder)"
      ],
      "execution_count": null,
      "outputs": []
    },
    {
      "cell_type": "code",
      "metadata": {
        "colab": {
          "base_uri": "https://localhost:8080/"
        },
        "id": "U_EaWKkLNLqe",
        "outputId": "ce09626a-c5ac-4164-8763-4fbf895631f5"
      },
      "source": [
        "i = 5\n",
        "\n",
        "def f(arg=i):\n",
        "    print(arg)\n",
        "\n",
        "i =6\n",
        "f(9)"
      ],
      "execution_count": null,
      "outputs": [
        {
          "output_type": "stream",
          "text": [
            "9\n"
          ],
          "name": "stdout"
        }
      ]
    },
    {
      "cell_type": "code",
      "metadata": {
        "colab": {
          "base_uri": "https://localhost:8080/"
        },
        "id": "3VvS4iEDNLn1",
        "outputId": "fce17e2a-140e-4ee7-c524-7c8b19757a9f"
      },
      "source": [
        "def f(a, L=[]):\n",
        "    L.append(a)\n",
        "    return L\n",
        "\n",
        "print(f(1))\n",
        "print(f(2))\n",
        "print(f(3))"
      ],
      "execution_count": null,
      "outputs": [
        {
          "output_type": "stream",
          "text": [
            "[1]\n",
            "[1, 2]\n",
            "[1, 2, 3]\n"
          ],
          "name": "stdout"
        }
      ]
    },
    {
      "cell_type": "code",
      "metadata": {
        "id": "b6SBXIYzNLlQ"
      },
      "source": [
        "def f(a, L=None):\n",
        "    if L is None:\n",
        "        L = []\n",
        "    L.append(a)\n",
        "    return L"
      ],
      "execution_count": null,
      "outputs": []
    },
    {
      "cell_type": "code",
      "metadata": {
        "colab": {
          "base_uri": "https://localhost:8080/"
        },
        "id": "B5UO_XMVNLif",
        "outputId": "5a62e22f-500c-466e-ccdb-7b6faf4256a3"
      },
      "source": [
        "f([9,5])"
      ],
      "execution_count": null,
      "outputs": [
        {
          "output_type": "execute_result",
          "data": {
            "text/plain": [
              "[[9, 5]]"
            ]
          },
          "metadata": {
            "tags": []
          },
          "execution_count": 10
        }
      ]
    },
    {
      "cell_type": "code",
      "metadata": {
        "id": "Ik12ORsjNJdF"
      },
      "source": [
        "def parrot(voltage, state='a stiff', action='voom', type='Norwegian Blue'):\n",
        "    print(\"-- This parrot wouldn't\", action, end=' ')\n",
        "    print(\"if you put\", voltage, \"volts through it.\")\n",
        "    print(\"-- Lovely plumage, the\", type)\n",
        "    print(\"-- It's\", state, \"!\")"
      ],
      "execution_count": null,
      "outputs": []
    },
    {
      "cell_type": "code",
      "metadata": {
        "colab": {
          "base_uri": "https://localhost:8080/"
        },
        "id": "D-ARbBYhNJau",
        "outputId": "164979e1-bdb2-42c1-8698-21858d7603c2"
      },
      "source": [
        "parrot(1000)  "
      ],
      "execution_count": null,
      "outputs": [
        {
          "output_type": "stream",
          "text": [
            "-- This parrot wouldn't voom if you put 1000 volts through it.\n",
            "-- Lovely plumage, the Norwegian Blue\n",
            "-- It's a stiff !\n"
          ],
          "name": "stdout"
        }
      ]
    },
    {
      "cell_type": "code",
      "metadata": {
        "colab": {
          "base_uri": "https://localhost:8080/"
        },
        "id": "JY_ryE8bNJYQ",
        "outputId": "435408ac-37fa-4ebc-d691-9c45df4f3994"
      },
      "source": [
        "parrot(voltage=1000)"
      ],
      "execution_count": null,
      "outputs": [
        {
          "output_type": "stream",
          "text": [
            "-- This parrot wouldn't voom if you put 1000 volts through it.\n",
            "-- Lovely plumage, the Norwegian Blue\n",
            "-- It's a stiff !\n"
          ],
          "name": "stdout"
        }
      ]
    },
    {
      "cell_type": "code",
      "metadata": {
        "colab": {
          "base_uri": "https://localhost:8080/"
        },
        "id": "q3TQxTzUNJVr",
        "outputId": "4d54c24d-43ac-4992-db17-241d984e2c8c"
      },
      "source": [
        "parrot(voltage=1000000, action='VOOOOOM') "
      ],
      "execution_count": null,
      "outputs": [
        {
          "output_type": "stream",
          "text": [
            "-- This parrot wouldn't VOOOOOM if you put 1000000 volts through it.\n",
            "-- Lovely plumage, the Norwegian Blue\n",
            "-- It's a stiff !\n"
          ],
          "name": "stdout"
        }
      ]
    },
    {
      "cell_type": "code",
      "metadata": {
        "colab": {
          "base_uri": "https://localhost:8080/"
        },
        "id": "p54GHfyONJQ3",
        "outputId": "92ea4de9-fc37-4bb4-dd57-bee54e845971"
      },
      "source": [
        "parrot(action='VOOOOOM', voltage=1000000) "
      ],
      "execution_count": null,
      "outputs": [
        {
          "output_type": "stream",
          "text": [
            "-- This parrot wouldn't VOOOOOM if you put 1000000 volts through it.\n",
            "-- Lovely plumage, the Norwegian Blue\n",
            "-- It's a stiff !\n"
          ],
          "name": "stdout"
        }
      ]
    },
    {
      "cell_type": "code",
      "metadata": {
        "colab": {
          "base_uri": "https://localhost:8080/"
        },
        "id": "MMAQgDI9QUyJ",
        "outputId": "24c5a56d-0b84-48a0-dcad-74715227ada0"
      },
      "source": [
        "parrot('a million', 'bereft of life', 'jump')"
      ],
      "execution_count": null,
      "outputs": [
        {
          "output_type": "stream",
          "text": [
            "-- This parrot wouldn't jump if you put a million volts through it.\n",
            "-- Lovely plumage, the Norwegian Blue\n",
            "-- It's bereft of life !\n"
          ],
          "name": "stdout"
        }
      ]
    },
    {
      "cell_type": "code",
      "metadata": {
        "colab": {
          "base_uri": "https://localhost:8080/"
        },
        "id": "EqtpyshPQUvt",
        "outputId": "a298f631-bd43-4869-b1d3-0a49e4ba94c0"
      },
      "source": [
        "parrot('a thousand', state='pushing up the daisies') "
      ],
      "execution_count": null,
      "outputs": [
        {
          "output_type": "stream",
          "text": [
            "-- This parrot wouldn't voom if you put a thousand volts through it.\n",
            "-- Lovely plumage, the Norwegian Blue\n",
            "-- It's pushing up the daisies !\n"
          ],
          "name": "stdout"
        }
      ]
    },
    {
      "cell_type": "code",
      "metadata": {
        "id": "eV_PO-L9QUtV"
      },
      "source": [
        "def cheeseshop(kind, *arguments, **keywords):\n",
        "    print(\"-- Do you have any\", kind, \"?\")\n",
        "    print(\"-- I'm sorry, we're all out of\", kind)\n",
        "    for arg in arguments:\n",
        "        print(arg)\n",
        "    print(\"-\" * 40)\n",
        "    for kw in keywords:\n",
        "        print(kw, \":\", keywords[kw])"
      ],
      "execution_count": null,
      "outputs": []
    },
    {
      "cell_type": "code",
      "metadata": {
        "colab": {
          "base_uri": "https://localhost:8080/"
        },
        "id": "DYboAAXeQUq1",
        "outputId": "e6a278f5-1f0a-41fb-9865-b6ba8aaa018b"
      },
      "source": [
        "cheeseshop(\"Limburger\", \"It's very runny, sir.\",\n",
        "           \"It's really very, VERY runny, sir.\",\n",
        "           shopkeeper=\"Michael Palin\",\n",
        "           client=\"John Cleese\",\n",
        "           sketch=\"Cheese Shop Sketch\")"
      ],
      "execution_count": null,
      "outputs": [
        {
          "output_type": "stream",
          "text": [
            "-- Do you have any Limburger ?\n",
            "-- I'm sorry, we're all out of Limburger\n",
            "It's very runny, sir.\n",
            "It's really very, VERY runny, sir.\n",
            "----------------------------------------\n",
            "shopkeeper : Michael Palin\n",
            "client : John Cleese\n",
            "sketch : Cheese Shop Sketch\n"
          ],
          "name": "stdout"
        }
      ]
    },
    {
      "cell_type": "code",
      "metadata": {
        "id": "TpyriC-1QUor"
      },
      "source": [
        "def greets( hi ,*argms):\n",
        "  #for argm in argms:\n",
        "    print(\"hello\", hi , argms)"
      ],
      "execution_count": null,
      "outputs": []
    },
    {
      "cell_type": "code",
      "metadata": {
        "colab": {
          "base_uri": "https://localhost:8080/"
        },
        "id": "A9M0IOg1QUmc",
        "outputId": "052f16c0-5c00-48b2-f936-79f1341dc562"
      },
      "source": [
        "greets(\"hüseyn\",\"hillll\", \"msss\",\"nsss\")"
      ],
      "execution_count": null,
      "outputs": [
        {
          "output_type": "stream",
          "text": [
            "hello hüseyn ('hillll', 'msss', 'nsss')\n"
          ],
          "name": "stdout"
        }
      ]
    },
    {
      "cell_type": "code",
      "metadata": {
        "id": "lkxXWspUQUjs",
        "colab": {
          "base_uri": "https://localhost:8080/"
        },
        "outputId": "6b1289e9-a28e-4f1c-f3f7-27cec95422b1"
      },
      "source": [
        "def make_incrementor(n):\n",
        "    return lambda x: x + n\n",
        "\n",
        "f = make_incrementor(42)\n",
        "f(0)\n",
        "\n",
        "f(1)"
      ],
      "execution_count": null,
      "outputs": [
        {
          "output_type": "execute_result",
          "data": {
            "text/plain": [
              "43"
            ]
          },
          "metadata": {
            "tags": []
          },
          "execution_count": 22
        }
      ]
    },
    {
      "cell_type": "code",
      "metadata": {
        "colab": {
          "base_uri": "https://localhost:8080/"
        },
        "id": "3DlSpfSQKlyK",
        "outputId": "e2937d67-8d9e-451b-e6a0-1a18a1fa07ab"
      },
      "source": [
        "pairs = [(1, 'one'), (2, 'two'), (3, 'three'), (4, 'four')]\n",
        "pairs.sort(key=lambda pair: pair[0])\n",
        "pairs"
      ],
      "execution_count": null,
      "outputs": [
        {
          "output_type": "execute_result",
          "data": {
            "text/plain": [
              "[(1, 'one'), (2, 'two'), (3, 'three'), (4, 'four')]"
            ]
          },
          "metadata": {
            "tags": []
          },
          "execution_count": 23
        }
      ]
    },
    {
      "cell_type": "code",
      "metadata": {
        "id": "8GG3mSesQUgj",
        "colab": {
          "base_uri": "https://localhost:8080/"
        },
        "outputId": "04537a7a-1f0c-4042-b6ac-81e7ea681fad"
      },
      "source": [
        "def my_function():\n",
        "    \"\"\"Do nothing, but document it.\n",
        "\n",
        " No, really, it doesn't do anything.\n",
        "    \"\"\"\n",
        "    pass\n",
        "\n",
        "print(my_function.__doc__)"
      ],
      "execution_count": null,
      "outputs": [
        {
          "output_type": "stream",
          "text": [
            "Do nothing, but document it.\n",
            "\n",
            " No, really, it doesn't do anything.\n",
            "    \n"
          ],
          "name": "stdout"
        }
      ]
    },
    {
      "cell_type": "markdown",
      "metadata": {
        "id": "oo-Z7233STMX"
      },
      "source": [
        "# Data Structures¶"
      ]
    },
    {
      "cell_type": "code",
      "metadata": {
        "colab": {
          "base_uri": "https://localhost:8080/",
          "height": 35
        },
        "id": "XytDPtUXRq49",
        "outputId": "edc40088-f446-4afa-f014-7781bda27246"
      },
      "source": [
        "fruits = ['orange', 'apple', 'pear', 'banana', 'kiwi', 'apple', 'banana']\n",
        "fruits.count('apple')\n",
        "\n",
        "fruits.count('tangerine')\n",
        "\n",
        "fruits.index('banana')\n",
        "\n",
        "fruits.index('banana', 4)  # Find next banana starting a position 4\n",
        "\n",
        "fruits.reverse()\n",
        "fruits\n",
        "\n",
        "fruits.append('grape')\n",
        "fruits\n",
        "\n",
        "fruits.sort()\n",
        "fruits\n",
        "\n",
        "fruits.pop()\n"
      ],
      "execution_count": null,
      "outputs": [
        {
          "output_type": "execute_result",
          "data": {
            "application/vnd.google.colaboratory.intrinsic+json": {
              "type": "string"
            },
            "text/plain": [
              "'pear'"
            ]
          },
          "metadata": {
            "tags": []
          },
          "execution_count": 25
        }
      ]
    },
    {
      "cell_type": "code",
      "metadata": {
        "colab": {
          "base_uri": "https://localhost:8080/"
        },
        "id": "5cpFN_Z8Rq2G",
        "outputId": "5a3c12a4-c933-4cf5-ebf6-f097072eebd6"
      },
      "source": [
        ">>> stack = [3, 4, 5]\n",
        ">>> stack.append(6)\n",
        ">>> stack.append(7)\n",
        ">>> stack\n",
        "[3, 4, 5, 6, 7]\n",
        ">>> stack.pop()\n",
        "7\n",
        ">>> stack\n",
        "[3, 4, 5, 6]\n",
        ">>> stack.pop()\n",
        "6\n",
        ">>> stack.pop()\n",
        "5\n",
        ">>> stack\n",
        "[3, 4]"
      ],
      "execution_count": null,
      "outputs": [
        {
          "output_type": "execute_result",
          "data": {
            "text/plain": [
              "[3, 4]"
            ]
          },
          "metadata": {
            "tags": []
          },
          "execution_count": 26
        }
      ]
    },
    {
      "cell_type": "code",
      "metadata": {
        "colab": {
          "base_uri": "https://localhost:8080/"
        },
        "id": "SluSLzBORqxf",
        "outputId": "23c9c167-93d5-4dd5-cf6b-5fb4f5c080d4"
      },
      "source": [
        ">>> from collections import deque\n",
        ">>> queue = deque([\"Eric\", \"John\", \"Michael\"])\n",
        ">>> queue.append(\"Terry\")           # Terry arrives\n",
        ">>> queue.append(\"Graham\")          # Graham arrives\n",
        ">>> queue.popleft()                 # The first to arrive now leaves\n",
        "'Eric'\n",
        ">>> queue.popleft()                 # The second to arrive now leaves\n",
        "'John'\n",
        ">>> queue                           # Remaining queue in order of arrival\n",
        "deque(['Michael', 'Terry', 'Graham'])"
      ],
      "execution_count": null,
      "outputs": [
        {
          "output_type": "execute_result",
          "data": {
            "text/plain": [
              "deque(['Michael', 'Terry', 'Graham'])"
            ]
          },
          "metadata": {
            "tags": []
          },
          "execution_count": 27
        }
      ]
    },
    {
      "cell_type": "code",
      "metadata": {
        "colab": {
          "base_uri": "https://localhost:8080/"
        },
        "id": "pk_onvD1SNo3",
        "outputId": "6e3d776d-3157-46bd-c24f-95556d7b75f2"
      },
      "source": [
        ">>> from collections import deque\n",
        ">>> queue = deque([\"Eric\", \"John\", \"Michael\"])\n",
        ">>> queue.append(\"Terry\")           # Terry arrives\n",
        ">>> queue.append(\"Graham\")          # Graham arrives\n",
        ">>> queue.popleft()                 # The first to arrive now leaves\n",
        "'Eric'\n",
        ">>> queue.popleft()                 # The second to arrive now leaves\n",
        "'John'\n",
        ">>> queue                           # Remaining queue in order of arrival\n",
        "deque(['Michael', 'Terry', 'Graham'])"
      ],
      "execution_count": null,
      "outputs": [
        {
          "output_type": "execute_result",
          "data": {
            "text/plain": [
              "deque(['Michael', 'Terry', 'Graham'])"
            ]
          },
          "metadata": {
            "tags": []
          },
          "execution_count": 28
        }
      ]
    },
    {
      "cell_type": "code",
      "metadata": {
        "colab": {
          "base_uri": "https://localhost:8080/"
        },
        "id": "-bk7NGitSNmG",
        "outputId": "a67ff27a-0dbc-4342-92ef-7962cbc8acc5"
      },
      "source": [
        "squares = list(map(lambda x: x**2, range(10)))\n",
        "squares"
      ],
      "execution_count": null,
      "outputs": [
        {
          "output_type": "execute_result",
          "data": {
            "text/plain": [
              "[0, 1, 4, 9, 16, 25, 36, 49, 64, 81]"
            ]
          },
          "metadata": {
            "tags": []
          },
          "execution_count": 29
        }
      ]
    },
    {
      "cell_type": "code",
      "metadata": {
        "colab": {
          "base_uri": "https://localhost:8080/"
        },
        "id": "Aw9NVXfBSNjU",
        "outputId": "878b21b8-48ac-46a8-8c2d-14f30f73d3db"
      },
      "source": [
        "squares = [x**2 for x in range(10)]\n",
        "squares"
      ],
      "execution_count": null,
      "outputs": [
        {
          "output_type": "execute_result",
          "data": {
            "text/plain": [
              "[0, 1, 4, 9, 16, 25, 36, 49, 64, 81]"
            ]
          },
          "metadata": {
            "tags": []
          },
          "execution_count": 30
        }
      ]
    },
    {
      "cell_type": "code",
      "metadata": {
        "colab": {
          "base_uri": "https://localhost:8080/"
        },
        "id": "lAmX724_SNg1",
        "outputId": "6676d6f5-fde5-443b-b4f8-99acae7ed0dd"
      },
      "source": [
        "[(x, y) for x in [1,2,3] for y in [3,1,4] if x != y]\n"
      ],
      "execution_count": null,
      "outputs": [
        {
          "output_type": "execute_result",
          "data": {
            "text/plain": [
              "[(1, 3), (1, 4), (2, 3), (2, 1), (2, 4), (3, 1), (3, 4)]"
            ]
          },
          "metadata": {
            "tags": []
          },
          "execution_count": 31
        }
      ]
    },
    {
      "cell_type": "code",
      "metadata": {
        "colab": {
          "base_uri": "https://localhost:8080/"
        },
        "id": "kfApJ3bvSNeV",
        "outputId": "c1490b9d-e4f0-437b-a37c-7930f9722fb5"
      },
      "source": [
        ">>> combs = []\n",
        ">>> for x in [1,2,3]:\n",
        "...     for y in [3,1,4]:\n",
        "...         if x != y:\n",
        "...             combs.append((x, y))\n",
        "...\n",
        ">>> combs\n",
        "[(1, 3), (1, 4), (2, 3), (2, 1), (2, 4), (3, 1), (3, 4)]"
      ],
      "execution_count": null,
      "outputs": [
        {
          "output_type": "execute_result",
          "data": {
            "text/plain": [
              "[(1, 3), (1, 4), (2, 3), (2, 1), (2, 4), (3, 1), (3, 4)]"
            ]
          },
          "metadata": {
            "tags": []
          },
          "execution_count": 32
        }
      ]
    },
    {
      "cell_type": "code",
      "metadata": {
        "colab": {
          "base_uri": "https://localhost:8080/",
          "height": 132
        },
        "id": "P6fkssdOSNbt",
        "outputId": "ae7f3feb-4957-484b-db9e-7681c428b8c3"
      },
      "source": [
        ">>> vec = [-4, -2, 0, 2, 4]\n",
        ">>> # create a new list with the values doubled\n",
        ">>> [x*2 for x in vec]\n",
        "[-8, -4, 0, 4, 8]\n",
        ">>> # filter the list to exclude negative numbers\n",
        ">>> [x for x in vec if x >= 0]\n",
        "[0, 2, 4]\n",
        ">>> # apply a function to all the elements\n",
        ">>> [abs(x) for x in vec]\n",
        "[4, 2, 0, 2, 4]\n",
        ">>> # call a method on each element\n",
        ">>> freshfruit = ['  banana', '  loganberry ', 'passion fruit  ']\n",
        ">>> [weapon.strip() for weapon in freshfruit]\n",
        "['banana', 'loganberry', 'passion fruit']\n",
        ">>> # create a list of 2-tuples like (number, square)\n",
        ">>> [(x, x**2) for x in range(6)]\n",
        "[(0, 0), (1, 1), (2, 4), (3, 9), (4, 16), (5, 25)]\n",
        ">>> # the tuple must be parenthesized, otherwise an error is raised\n",
        ">>> [x, x**2 for x in range(6)]\n",
        "  File \"<stdin>\", line 1, in <module>\n",
        "    [x, x**2 for x in range(6)]\n",
        "               ^\n",
        "SyntaxError: invalid syntax\n",
        ">>> # flatten a list using a listcomp with two 'for'\n",
        ">>> vec = [[1,2,3], [4,5,6], [7,8,9]]\n",
        ">>> [num for elem in vec for num in elem]\n",
        "[1, 2, 3, 4, 5, 6, 7, 8, 9]"
      ],
      "execution_count": null,
      "outputs": [
        {
          "output_type": "error",
          "ename": "SyntaxError",
          "evalue": "ignored",
          "traceback": [
            "\u001b[0;36m  File \u001b[0;32m\"<ipython-input-33-6aa73b944928>\"\u001b[0;36m, line \u001b[0;32m19\u001b[0m\n\u001b[0;31m    [x, x**2 for x in range(6)]\u001b[0m\n\u001b[0m               ^\u001b[0m\n\u001b[0;31mSyntaxError\u001b[0m\u001b[0;31m:\u001b[0m invalid syntax\n"
          ]
        }
      ]
    },
    {
      "cell_type": "code",
      "metadata": {
        "colab": {
          "base_uri": "https://localhost:8080/"
        },
        "id": "j1s1_1GQSNYs",
        "outputId": "5351220d-5560-41bd-995a-d83a8cd1f041"
      },
      "source": [
        ">>> from math import pi\n",
        ">>> [str(round(pi, i)) for i in range(1, 6)]\n",
        "['3.1', '3.14', '3.142', '3.1416', '3.14159']"
      ],
      "execution_count": null,
      "outputs": [
        {
          "output_type": "execute_result",
          "data": {
            "text/plain": [
              "['3.1', '3.14', '3.142', '3.1416', '3.14159']"
            ]
          },
          "metadata": {
            "tags": []
          },
          "execution_count": 34
        }
      ]
    },
    {
      "cell_type": "code",
      "metadata": {
        "id": "SewpS1c_SNV_"
      },
      "source": [
        ">>> matrix = [\n",
        "...     [1, 2, 3, 4],\n",
        "...     [5, 6, 7, 8],\n",
        "...     [9, 10, 11, 12],\n",
        "... ]"
      ],
      "execution_count": null,
      "outputs": []
    },
    {
      "cell_type": "code",
      "metadata": {
        "colab": {
          "base_uri": "https://localhost:8080/"
        },
        "id": "iMUBoJCgSNTC",
        "outputId": "ac372292-c9c3-4fcf-e67a-02759a74266e"
      },
      "source": [
        ">>> [[row[i] for row in matrix] for i in range(4)]\n",
        "[[1, 5, 9], [2, 6, 10], [3, 7, 11], [4, 8, 12]]"
      ],
      "execution_count": null,
      "outputs": [
        {
          "output_type": "execute_result",
          "data": {
            "text/plain": [
              "[[1, 5, 9], [2, 6, 10], [3, 7, 11], [4, 8, 12]]"
            ]
          },
          "metadata": {
            "tags": []
          },
          "execution_count": 36
        }
      ]
    },
    {
      "cell_type": "code",
      "metadata": {
        "id": "UIlRlyXpTqRo"
      },
      "source": [
        ">>> [[row[i] for row in matrix] for i in range(4)]\n",
        "[[1, 5, 9], [2, 6, 10], [3, 7, 11], [4, 8, 12]]"
      ],
      "execution_count": null,
      "outputs": []
    },
    {
      "cell_type": "code",
      "metadata": {
        "colab": {
          "base_uri": "https://localhost:8080/"
        },
        "id": "WpNYHuErTqO7",
        "outputId": "dddcbfce-704c-4e82-eb0e-89c201288a7c"
      },
      "source": [
        ">>> transposed = []\n",
        ">>> for i in range(4):\n",
        "...     # the following 3 lines implement the nested listcomp\n",
        "...     transposed_row = []\n",
        "...     for row in matrix:\n",
        "...         transposed_row.append(row[i])\n",
        "...     transposed.append(transposed_row)\n",
        "...\n",
        ">>> transposed\n",
        "[[1, 5, 9], [2, 6, 10], [3, 7, 11], [4, 8, 12]]"
      ],
      "execution_count": null,
      "outputs": [
        {
          "output_type": "execute_result",
          "data": {
            "text/plain": [
              "[[1, 5, 9], [2, 6, 10], [3, 7, 11], [4, 8, 12]]"
            ]
          },
          "metadata": {
            "tags": []
          },
          "execution_count": 37
        }
      ]
    },
    {
      "cell_type": "code",
      "metadata": {
        "colab": {
          "base_uri": "https://localhost:8080/"
        },
        "id": "3an044ywTqMX",
        "outputId": "f1aa2324-1b0e-4791-f476-687e71f213a9"
      },
      "source": [
        ">>> list(zip(*matrix))\n",
        "[(1, 5, 9), (2, 6, 10), (3, 7, 11), (4, 8, 12)]"
      ],
      "execution_count": null,
      "outputs": [
        {
          "output_type": "execute_result",
          "data": {
            "text/plain": [
              "[(1, 5, 9), (2, 6, 10), (3, 7, 11), (4, 8, 12)]"
            ]
          },
          "metadata": {
            "tags": []
          },
          "execution_count": 38
        }
      ]
    },
    {
      "cell_type": "code",
      "metadata": {
        "colab": {
          "base_uri": "https://localhost:8080/"
        },
        "id": "r6Tfpr6uTqJX",
        "outputId": "e50502b5-34cb-452c-885d-bea1609a32ae"
      },
      "source": [
        ">>> a = [-1, 1, 66.25, 333, 333, 1234.5]\n",
        ">>> del a[0]\n",
        ">>> a\n",
        "[1, 66.25, 333, 333, 1234.5]\n",
        ">>> del a[2:4]\n",
        ">>> a\n",
        "[1, 66.25, 1234.5]\n",
        ">>> del a[:]\n",
        ">>> a\n",
        "[]"
      ],
      "execution_count": null,
      "outputs": [
        {
          "output_type": "execute_result",
          "data": {
            "text/plain": [
              "[]"
            ]
          },
          "metadata": {
            "tags": []
          },
          "execution_count": 39
        }
      ]
    },
    {
      "cell_type": "code",
      "metadata": {
        "id": "cvWc5CstTqGC"
      },
      "source": [
        ">>> del a"
      ],
      "execution_count": null,
      "outputs": []
    },
    {
      "cell_type": "code",
      "metadata": {
        "colab": {
          "base_uri": "https://localhost:8080/"
        },
        "id": "slIb0Tj5TqC_",
        "outputId": "5a218485-4425-4a00-8b46-817e3e8a4c82"
      },
      "source": [
        ">>> empty = ()\n",
        ">>> singleton = 'hello',    # <-- note trailing comma\n",
        ">>> len(empty)\n",
        "0\n",
        ">>> len(singleton)\n",
        "1\n",
        ">>> singleton\n",
        "('hello',)"
      ],
      "execution_count": null,
      "outputs": [
        {
          "output_type": "execute_result",
          "data": {
            "text/plain": [
              "('hello',)"
            ]
          },
          "metadata": {
            "tags": []
          },
          "execution_count": 40
        }
      ]
    },
    {
      "cell_type": "code",
      "metadata": {
        "colab": {
          "base_uri": "https://localhost:8080/"
        },
        "id": "vqOVU75DTqAO",
        "outputId": "3721c966-31be-481c-cc0a-cb5f526b5fe8"
      },
      "source": [
        ">>> basket = {'apple', 'orange', 'apple', 'pear', 'orange', 'banana'}\n",
        ">>> print(basket)                      # show that duplicates have been removed\n",
        "{'orange', 'banana', 'pear', 'apple'}\n",
        ">>> 'orange' in basket                 # fast membership testing\n",
        "True\n",
        ">>> 'crabgrass' in basket\n",
        "False\n",
        "\n",
        ">>> # Demonstrate set operations on unique letters from two words\n",
        "...\n",
        ">>> a = set('abracadabra')\n",
        ">>> b = set('alacazam')\n",
        ">>> a                                  # unique letters in a\n",
        "{'a', 'r', 'b', 'c', 'd'}\n",
        ">>> a - b                              # letters in a but not in b\n",
        "{'r', 'd', 'b'}\n",
        ">>> a | b                              # letters in a or b or both\n",
        "{'a', 'c', 'r', 'd', 'b', 'm', 'z', 'l'}\n",
        ">>> a & b                              # letters in both a and b\n",
        "{'a', 'c'}\n",
        ">>> a ^ b                              # letters in a or b but not both\n",
        "{'r', 'd', 'b', 'm', 'z', 'l'}"
      ],
      "execution_count": null,
      "outputs": [
        {
          "output_type": "stream",
          "text": [
            "{'orange', 'apple', 'pear', 'banana'}\n"
          ],
          "name": "stdout"
        },
        {
          "output_type": "execute_result",
          "data": {
            "text/plain": [
              "{'b', 'd', 'l', 'm', 'r', 'z'}"
            ]
          },
          "metadata": {
            "tags": []
          },
          "execution_count": 42
        }
      ]
    },
    {
      "cell_type": "code",
      "metadata": {
        "id": "YVGR_zHmU4ip"
      },
      "source": [
        ">>> tel = {'jack': 4098, 'sape': 4139}\n",
        ">>> tel['guido'] = 4127\n",
        ">>> tel\n",
        "{'jack': 4098, 'sape': 4139, 'guido': 4127}\n",
        ">>> tel['jack']\n",
        "4098\n",
        ">>> del tel['sape']\n",
        ">>> tel['irv'] = 4127\n",
        ">>> tel\n",
        "{'jack': 4098, 'guido': 4127, 'irv': 4127}\n",
        ">>> list(tel)\n",
        "['jack', 'guido', 'irv']\n",
        ">>> sorted(tel)\n",
        "['guido', 'irv', 'jack']\n",
        ">>> 'guido' in tel\n",
        "True\n",
        ">>> 'jack' not in tel\n",
        "False"
      ],
      "execution_count": null,
      "outputs": []
    },
    {
      "cell_type": "code",
      "metadata": {
        "id": "pTuMDAGxU4fr"
      },
      "source": [
        ">>> dict([('sape', 4139), ('guido', 4127), ('jack', 4098)])\n",
        "{'sape': 4139, 'guido': 4127, 'jack': 4098}"
      ],
      "execution_count": null,
      "outputs": []
    },
    {
      "cell_type": "code",
      "metadata": {
        "id": "5-Gji1VBU4cX"
      },
      "source": [
        ">>> {x: x**2 for x in (2, 4, 6)}\n",
        "{2: 4, 4: 16, 6: 36}"
      ],
      "execution_count": null,
      "outputs": []
    },
    {
      "cell_type": "code",
      "metadata": {
        "id": "yM5XGXgNU4Zl"
      },
      "source": [
        ">>> dict(sape=4139, guido=4127, jack=4098)\n",
        "{'sape': 4139, 'guido': 4127, 'jack': 4098}"
      ],
      "execution_count": null,
      "outputs": []
    },
    {
      "cell_type": "code",
      "metadata": {
        "id": "7rhAdRyzU4W7"
      },
      "source": [
        "knights = {'gallahad': 'the pure', 'robin': 'the brave'}\n",
        "for k, v in knights.items():\n",
        "    print(k, v)"
      ],
      "execution_count": null,
      "outputs": []
    },
    {
      "cell_type": "code",
      "metadata": {
        "id": "WcnevWS_U4T6"
      },
      "source": [
        "for i, v in enumerate(['tic', 'tac', 'toe']):\n",
        "    print(i, v)\n"
      ],
      "execution_count": null,
      "outputs": []
    },
    {
      "cell_type": "code",
      "metadata": {
        "id": "x3UmrByhU4RP"
      },
      "source": [
        "questions = ['name', 'quest', 'favorite color']\n",
        "answers = ['lancelot', 'the holy grail', 'blue']\n",
        "for q, a in zip(questions, answers):\n",
        "    print('What is your {0}?  It is {1}.'.format(q, a))\n"
      ],
      "execution_count": null,
      "outputs": []
    },
    {
      "cell_type": "code",
      "metadata": {
        "id": "ZfTk6SNgU4OW"
      },
      "source": [
        "for i in reversed(range(1, 10, 2)):\n",
        "    print(i)\n"
      ],
      "execution_count": null,
      "outputs": []
    },
    {
      "cell_type": "code",
      "metadata": {
        "id": "NCPEbdpHU4KY"
      },
      "source": [
        "basket = ['apple', 'orange', 'apple', 'pear', 'orange', 'banana']\n",
        "for i in sorted(basket):\n",
        "    print(i)\n"
      ],
      "execution_count": null,
      "outputs": []
    },
    {
      "cell_type": "code",
      "metadata": {
        "id": "AxmrWc5XU4G7"
      },
      "source": [
        "basket = ['apple', 'orange', 'apple', 'pear', 'orange', 'banana']\n",
        "for f in sorted(set(basket)):\n",
        "    print(f)\n"
      ],
      "execution_count": null,
      "outputs": []
    },
    {
      "cell_type": "code",
      "metadata": {
        "id": "jPfEtIvTU4Bv"
      },
      "source": [
        "import math\n",
        "raw_data = [56.2, float('NaN'), 51.7, 55.3, 52.5, float('NaN'), 47.8]\n",
        "filtered_data = []\n",
        "for value in raw_data:\n",
        "    if not math.isnan(value):\n",
        "        filtered_data.append(value)\n",
        "\n",
        "filtered_data"
      ],
      "execution_count": null,
      "outputs": []
    },
    {
      "cell_type": "code",
      "metadata": {
        "id": "WN9TOKCnTp9Y"
      },
      "source": [
        "year = 2016\n",
        "event = 'Referendum'\n",
        "f'Results of the {year} {event}'\n"
      ],
      "execution_count": null,
      "outputs": []
    },
    {
      "cell_type": "code",
      "metadata": {
        "id": "2V7N71NPgz_y"
      },
      "source": [
        "yes_votes = 42_572_654\n",
        "no_votes = 43_132_495\n",
        "percentage = yes_votes / (yes_votes + no_votes)\n",
        "'{:-9} YES votes  {:2.2%}'.format(yes_votes, percentage)"
      ],
      "execution_count": null,
      "outputs": []
    },
    {
      "cell_type": "markdown",
      "metadata": {
        "id": "_WXlVrG5hfiU"
      },
      "source": [
        "# Input and Output"
      ]
    },
    {
      "cell_type": "code",
      "metadata": {
        "id": "Q6Y31qMggz5p"
      },
      "source": [
        "s = 'Hello, world.'\n",
        "str(s)\n",
        "\n",
        "repr(s)\n",
        "\n",
        "str(1/7)\n",
        "\n",
        "x = 10 * 3.25\n",
        "y = 200 * 200\n",
        "s = 'The value of x is ' + repr(x) + ', and y is ' + repr(y) + '...'\n",
        "print(s)\n",
        "\n",
        "# The repr() of a string adds string quotes and backslashes:\n",
        "hello = 'hello, world\\n'\n",
        "hellos = repr(hello)\n",
        "print(hellos)\n",
        "\n",
        "# The argument to repr() may be any Python object:\n",
        "repr((x, y, ('spam', 'eggs')))\n"
      ],
      "execution_count": null,
      "outputs": []
    },
    {
      "cell_type": "code",
      "metadata": {
        "id": "Z4eZWrnpgz2s"
      },
      "source": [
        "import math\n",
        "print(f'The value of pi is approximately {math.pi:.3f}.')"
      ],
      "execution_count": null,
      "outputs": []
    },
    {
      "cell_type": "code",
      "metadata": {
        "id": "MxBqImdOgzzp"
      },
      "source": [
        "table = {'Sjoerd': 4127, 'Jack': 4098, 'Dcab': 7678}\n",
        "for name, phone in table.items():\n",
        "    print(f'{name:10} ==> {phone:10d}')"
      ],
      "execution_count": null,
      "outputs": []
    },
    {
      "cell_type": "code",
      "metadata": {
        "id": "6tXeZMEfgzvg"
      },
      "source": [
        "print('We are the {} who say \"{}!\"'.format('knights', 'Ni'))"
      ],
      "execution_count": null,
      "outputs": []
    },
    {
      "cell_type": "code",
      "metadata": {
        "id": "dsnyGtyjgzsc"
      },
      "source": [
        "print('{0} and {1}'.format('spam', 'eggs'))\n",
        "\n",
        "print('{1} and {0}'.format('spam', 'eggs'))"
      ],
      "execution_count": null,
      "outputs": []
    },
    {
      "cell_type": "code",
      "metadata": {
        "id": "Aeq3NYKjgzpk"
      },
      "source": [
        "print('This {food} is {adjective}.'.format(\n",
        "      food='spam', adjective='absolutely horrible'))\n"
      ],
      "execution_count": null,
      "outputs": []
    },
    {
      "cell_type": "code",
      "metadata": {
        "id": "Vca0_M3Egzlp"
      },
      "source": [
        "print('This {food} is {adjective}.'.format(\n",
        "      food='spam', adjective='absolutely horrible'))"
      ],
      "execution_count": null,
      "outputs": []
    },
    {
      "cell_type": "code",
      "metadata": {
        "id": "buaZJ2c4gziG"
      },
      "source": [
        "print('The story of {0}, {1}, and {other}.'.format('Bill', 'Manfred',\n",
        "                                                       other='Georg'))"
      ],
      "execution_count": null,
      "outputs": []
    },
    {
      "cell_type": "code",
      "metadata": {
        "id": "FhtUymwlgzeY"
      },
      "source": [
        "for x in range(1, 11):\n",
        "    print('{0:2d} {1:3d} {2:4d}'.format(x, x*x, x*x*x))"
      ],
      "execution_count": null,
      "outputs": []
    },
    {
      "cell_type": "code",
      "metadata": {
        "id": "5o2XrqjvgzYY"
      },
      "source": [
        "try:\n",
        "    raise Exception('spam', 'eggs')\n",
        "except Exception as inst:\n",
        "    print(type(inst))    # the exception instance\n",
        "    print(inst.args)     # arguments stored in .args\n",
        "    print(inst)          # __str__ allows args to be printed directly,\n",
        "                         # but may be overridden in exception subclasses\n",
        "    x, y = inst.args     # unpack args\n",
        "    print('x =', x)\n",
        "    print('y =', y)\n",
        "\n",
        "\n"
      ],
      "execution_count": null,
      "outputs": []
    },
    {
      "cell_type": "code",
      "metadata": {
        "id": "aPO_fmObgzU8"
      },
      "source": [
        "def scope_test():\n",
        "    def do_local():\n",
        "        spam = \"local spam\"\n",
        "\n",
        "    def do_nonlocal():\n",
        "        nonlocal spam\n",
        "        spam = \"nonlocal spam\"\n",
        "\n",
        "    def do_global():\n",
        "        global spam\n",
        "        spam = \"global spam\"\n",
        "\n",
        "    spam = \"test spam\"\n",
        "    do_local()\n",
        "    print(\"After local assignment:\", spam)\n",
        "    do_nonlocal()\n",
        "    print(\"After nonlocal assignment:\", spam)\n",
        "    do_global()\n",
        "    print(\"After global assignment:\", spam)\n",
        "\n",
        "scope_test()\n",
        "print(\"In global scope:\", spam)"
      ],
      "execution_count": null,
      "outputs": []
    },
    {
      "cell_type": "code",
      "metadata": {
        "id": "PQxu1s0BTp6d",
        "colab": {
          "base_uri": "https://localhost:8080/"
        },
        "outputId": "22f6700a-4176-4c36-dcc6-226f8ba5d74a"
      },
      "source": [
        "class Dog:\n",
        "\n",
        "    tricks = []             # mistaken use of a class variable\n",
        "\n",
        "    def __init__(self, name):\n",
        "        self.name = name\n",
        "\n",
        "    def add_trick(self, add):\n",
        "        self.tricks.append(add)\n",
        "\n",
        "d = Dog('Fido')\n",
        "e = Dog('Buddy')\n",
        "d.add_trick('roll over')\n",
        "e.add_trick('play dead')\n",
        "d.tricks                # unexpectedly shared by all dogs\n"
      ],
      "execution_count": null,
      "outputs": [
        {
          "output_type": "execute_result",
          "data": {
            "text/plain": [
              "['roll over', 'play dead']"
            ]
          },
          "metadata": {
            "tags": []
          },
          "execution_count": 44
        }
      ]
    },
    {
      "cell_type": "code",
      "metadata": {
        "id": "neiycS93IZZ4"
      },
      "source": [
        "class Dog:\n",
        "\n",
        "  def __init__(self, name):\n",
        "\n",
        "    self.name = name \n",
        "    self.tricks = []\n",
        "  def add_trick(self, trick):\n",
        "\n",
        "    self.tricks.append(trick)"
      ],
      "execution_count": null,
      "outputs": []
    },
    {
      "cell_type": "code",
      "metadata": {
        "id": "kF6bFvQqUWka"
      },
      "source": [
        "d = Dog('Fido')"
      ],
      "execution_count": null,
      "outputs": []
    },
    {
      "cell_type": "code",
      "metadata": {
        "id": "FQqAACsxIZRB",
        "colab": {
          "base_uri": "https://localhost:8080/",
          "height": 35
        },
        "outputId": "04e8e6fb-c173-46b7-9dac-bf1542e8cd90"
      },
      "source": [
        "d.name"
      ],
      "execution_count": null,
      "outputs": [
        {
          "output_type": "execute_result",
          "data": {
            "application/vnd.google.colaboratory.intrinsic+json": {
              "type": "string"
            },
            "text/plain": [
              "'Fido'"
            ]
          },
          "metadata": {
            "tags": []
          },
          "execution_count": 81
        }
      ]
    },
    {
      "cell_type": "code",
      "metadata": {
        "id": "wON-sPJdZUn0"
      },
      "source": [
        "d.add_trick('roll over')"
      ],
      "execution_count": null,
      "outputs": []
    },
    {
      "cell_type": "code",
      "metadata": {
        "colab": {
          "base_uri": "https://localhost:8080/"
        },
        "id": "6_Bvc9B9ZeLG",
        "outputId": "1d3cd108-bf17-4aa6-e1e9-3e693288f905"
      },
      "source": [
        "d.tricks"
      ],
      "execution_count": null,
      "outputs": [
        {
          "output_type": "execute_result",
          "data": {
            "text/plain": [
              "['roll over']"
            ]
          },
          "metadata": {
            "tags": []
          },
          "execution_count": 86
        }
      ]
    },
    {
      "cell_type": "code",
      "metadata": {
        "id": "ws0yyPJPIZLM"
      },
      "source": [
        "e = Dog('Buddy')"
      ],
      "execution_count": null,
      "outputs": []
    },
    {
      "cell_type": "code",
      "metadata": {
        "id": "5Phyye7IIZH-"
      },
      "source": [
        "e.add_trick('play dead')"
      ],
      "execution_count": null,
      "outputs": []
    },
    {
      "cell_type": "code",
      "metadata": {
        "id": "Oy_-YrMzIZEK",
        "colab": {
          "base_uri": "https://localhost:8080/"
        },
        "outputId": "c17acaad-695e-4140-d366-63c27fadfda5"
      },
      "source": [
        "e.tricks"
      ],
      "execution_count": null,
      "outputs": [
        {
          "output_type": "execute_result",
          "data": {
            "text/plain": [
              "['play dead']"
            ]
          },
          "metadata": {
            "tags": []
          },
          "execution_count": 85
        }
      ]
    },
    {
      "cell_type": "code",
      "metadata": {
        "id": "BEtEt4NCIZA9"
      },
      "source": [
        ""
      ],
      "execution_count": null,
      "outputs": []
    },
    {
      "cell_type": "markdown",
      "metadata": {
        "id": "sXzATTMSZ1hZ"
      },
      "source": [
        "If the same attribute name occurs in both an instance and in a class, then attribute lookup prioritizes the instance:"
      ]
    },
    {
      "cell_type": "code",
      "metadata": {
        "id": "mNpBIiPCIY9W",
        "colab": {
          "base_uri": "https://localhost:8080/"
        },
        "outputId": "cc5429f7-3574-4d01-b08b-c1e5604b6294"
      },
      "source": [
        "class Warehouse:\n",
        "   purpose = 'storage'\n",
        "   region = 'west'\n",
        "\n",
        "\n",
        "\n",
        "w1 = Warehouse()\n",
        "print(w1.purpose, w1.region)\n",
        "\n",
        "w2 = Warehouse()\n",
        "w2.region = 'east'\n",
        "print(w2.purpose, w2.region)"
      ],
      "execution_count": null,
      "outputs": [
        {
          "output_type": "stream",
          "text": [
            "storage west\n",
            "storage east\n"
          ],
          "name": "stdout"
        }
      ]
    },
    {
      "cell_type": "code",
      "metadata": {
        "id": "Xq0uIXAsIY6P"
      },
      "source": [
        "# Function defined outside the class\n",
        "def f1(self, x, y):\n",
        "    return min(x, x+y)\n",
        "\n",
        "class C:\n",
        "    f = f1\n",
        "\n",
        "    def g(self):\n",
        "        return 'hello world'\n",
        "\n",
        "    h = g"
      ],
      "execution_count": null,
      "outputs": []
    },
    {
      "cell_type": "markdown",
      "metadata": {
        "id": "F7otaW1HbIOZ"
      },
      "source": [
        "Methods may call other methods by using method attributes of the self argument:"
      ]
    },
    {
      "cell_type": "code",
      "metadata": {
        "id": "HScoI2bZIYyr"
      },
      "source": [
        "class Bag:\n",
        "\n",
        "  def __init__(self):\n",
        "    self.data = []\n",
        "\n",
        "\n",
        "  def add(self, x):\n",
        "    self.data.append(x)\n",
        "\n",
        "\n",
        "  def addtwice(self, x):\n",
        "    self.data.append(x)  \n",
        "    self.data.append(x)"
      ],
      "execution_count": null,
      "outputs": []
    },
    {
      "cell_type": "code",
      "metadata": {
        "id": "8ffNpXKXIYvz"
      },
      "source": [
        "class Mapping:\n",
        "    def __init__(self, iterable):\n",
        "        self.items_list = []\n",
        "        self.__update(iterable)\n",
        "\n",
        "    def update(self, iterable):\n",
        "        for item in iterable:\n",
        "            self.items_list.append(item)\n",
        "\n",
        "    __update = update   # private copy of original update() method\n",
        "\n",
        "class MappingSubclass(Mapping):\n",
        "\n",
        "    def update(self, keys, values):\n",
        "        # provides new signature for update()\n",
        "        # but does not break __init__()\n",
        "        for item in zip(keys, values):\n",
        "            self.items_list.append(item)"
      ],
      "execution_count": null,
      "outputs": []
    },
    {
      "cell_type": "code",
      "metadata": {
        "id": "xSNH1sk2IYrl"
      },
      "source": [
        "class Mapping:\n",
        "    def __init__(self, iterable):\n",
        "        self.items_list = []\n",
        "        self.__update(iterable)\n",
        "\n",
        "    def update(self, iterable):\n",
        "        for item in iterable:\n",
        "            self.items_list.append(item)\n",
        "\n",
        "    __update = update   # private copy of original update() method\n",
        "\n",
        "class MappingSubclass(Mapping):\n",
        "\n",
        "    def update(self, keys, values):\n",
        "        # provides new signature for update()\n",
        "        # but does not break __init__()\n",
        "        for item in zip(keys, values):\n",
        "            self.items_list.append(item)"
      ],
      "execution_count": null,
      "outputs": []
    },
    {
      "cell_type": "code",
      "metadata": {
        "id": "HARokpgEeJQp"
      },
      "source": [
        "class Employee:\n",
        "    pass\n",
        "\n",
        "john = Employee()  # Create an empty employee record\n",
        "\n",
        "# Fill the fields of the record\n",
        "john.name = 'John Doe'\n",
        "john.dept = 'computer lab'\n",
        "john.salary = 1000"
      ],
      "execution_count": null,
      "outputs": []
    },
    {
      "cell_type": "code",
      "metadata": {
        "colab": {
          "base_uri": "https://localhost:8080/"
        },
        "id": "i_x08wHdeJNY",
        "outputId": "11a74784-a6f1-403d-bf2d-4dceb7254ba8"
      },
      "source": [
        "john.salary"
      ],
      "execution_count": null,
      "outputs": [
        {
          "output_type": "execute_result",
          "data": {
            "text/plain": [
              "1000"
            ]
          },
          "metadata": {
            "tags": []
          },
          "execution_count": 94
        }
      ]
    },
    {
      "cell_type": "markdown",
      "metadata": {
        "id": "HqxWM1qKwOUq"
      },
      "source": [
        "# Iterators\n"
      ]
    },
    {
      "cell_type": "code",
      "metadata": {
        "colab": {
          "base_uri": "https://localhost:8080/",
          "height": 35
        },
        "id": "B11iZBvreJKO",
        "outputId": "dec98729-48c5-46f2-ffa3-3c07b9ed2d49"
      },
      "source": [
        "s = 'abc'\n",
        "it = iter(s)\n",
        "it\n",
        "\n",
        "next(it)"
      ],
      "execution_count": null,
      "outputs": [
        {
          "output_type": "execute_result",
          "data": {
            "application/vnd.google.colaboratory.intrinsic+json": {
              "type": "string"
            },
            "text/plain": [
              "'a'"
            ]
          },
          "metadata": {
            "tags": []
          },
          "execution_count": 96
        }
      ]
    },
    {
      "cell_type": "code",
      "metadata": {
        "colab": {
          "base_uri": "https://localhost:8080/",
          "height": 35
        },
        "id": "ORyotEGjeJHK",
        "outputId": "bd9a0afb-4f4d-4057-e7b8-9e382437f919"
      },
      "source": [
        "next(it)"
      ],
      "execution_count": null,
      "outputs": [
        {
          "output_type": "execute_result",
          "data": {
            "application/vnd.google.colaboratory.intrinsic+json": {
              "type": "string"
            },
            "text/plain": [
              "'b'"
            ]
          },
          "metadata": {
            "tags": []
          },
          "execution_count": 97
        }
      ]
    },
    {
      "cell_type": "code",
      "metadata": {
        "colab": {
          "base_uri": "https://localhost:8080/",
          "height": 35
        },
        "id": "M5WXB_OVeJEK",
        "outputId": "ec1bca0b-cd14-45b6-da1a-fc74e74a39e2"
      },
      "source": [
        "next(it)"
      ],
      "execution_count": null,
      "outputs": [
        {
          "output_type": "execute_result",
          "data": {
            "application/vnd.google.colaboratory.intrinsic+json": {
              "type": "string"
            },
            "text/plain": [
              "'c'"
            ]
          },
          "metadata": {
            "tags": []
          },
          "execution_count": 98
        }
      ]
    },
    {
      "cell_type": "code",
      "metadata": {
        "colab": {
          "base_uri": "https://localhost:8080/"
        },
        "id": "wP9uPUIleJBA",
        "outputId": "c96d90c7-0fef-448b-f6b3-13d8b672dfd4"
      },
      "source": [
        "for element in [1, 2, 3]:\n",
        "    print(element)\n",
        "for element in (1, 2, 3):\n",
        "    print(element)\n",
        "for key in {'one':1, 'two':2}:\n",
        "    print(key)\n",
        "for char in \"123\":\n",
        "    print(char)\n",
        "#for line in open(\"myfile.txt\"):\n",
        "    #print(line, end='')"
      ],
      "execution_count": null,
      "outputs": [
        {
          "output_type": "stream",
          "text": [
            "1\n",
            "2\n",
            "3\n",
            "1\n",
            "2\n",
            "3\n",
            "one\n",
            "two\n",
            "1\n",
            "2\n",
            "3\n"
          ],
          "name": "stdout"
        }
      ]
    },
    {
      "cell_type": "code",
      "metadata": {
        "id": "D5IjMcGgeIej"
      },
      "source": [
        "class Reverse:\n",
        "    \"\"\"Iterator for looping over a sequence backwards.\"\"\"\n",
        "    def __init__(self, data):\n",
        "        self.data = data\n",
        "        self.index = len(data)\n",
        "\n",
        "    def __iter__(self):\n",
        "        return self\n",
        "\n",
        "    def __next__(self):\n",
        "        if self.index == 0:\n",
        "            raise StopIteration\n",
        "        self.index = self.index - 1\n",
        "        return self.data[self.index]"
      ],
      "execution_count": null,
      "outputs": []
    },
    {
      "cell_type": "code",
      "metadata": {
        "id": "BUnnbfOueIbB"
      },
      "source": [
        "rev = Reverse(\"spam\")\n"
      ],
      "execution_count": null,
      "outputs": []
    },
    {
      "cell_type": "code",
      "metadata": {
        "colab": {
          "base_uri": "https://localhost:8080/"
        },
        "id": "V1wplxkJeIX1",
        "outputId": "0f7ba57c-4ed8-40f5-88eb-4c21ef17c25f"
      },
      "source": [
        "for char in rev:\n",
        "  print(char)"
      ],
      "execution_count": null,
      "outputs": [
        {
          "output_type": "stream",
          "text": [
            "m\n",
            "a\n",
            "p\n",
            "s\n"
          ],
          "name": "stdout"
        }
      ]
    },
    {
      "cell_type": "markdown",
      "metadata": {
        "id": "kFtRE65pwWZz"
      },
      "source": [
        "# Generators"
      ]
    },
    {
      "cell_type": "code",
      "metadata": {
        "id": "tizlMyyyeIUd"
      },
      "source": [
        "def reverse(data):\n",
        "    for index in range(len(data)-1, -1, -1):\n",
        "        yield data[index]"
      ],
      "execution_count": null,
      "outputs": []
    },
    {
      "cell_type": "code",
      "metadata": {
        "colab": {
          "base_uri": "https://localhost:8080/"
        },
        "id": "frMgh92keIRO",
        "outputId": "4724735c-bcff-4b54-e4b1-96246f475371"
      },
      "source": [
        "for char in reverse('golf'):\n",
        "    print(char)\n"
      ],
      "execution_count": null,
      "outputs": [
        {
          "output_type": "stream",
          "text": [
            "f\n",
            "l\n",
            "o\n",
            "g\n"
          ],
          "name": "stdout"
        }
      ]
    },
    {
      "cell_type": "code",
      "metadata": {
        "colab": {
          "base_uri": "https://localhost:8080/"
        },
        "id": "TOVbvZhLeIMX",
        "outputId": "42360a32-7440-4fde-82dd-2995684df678"
      },
      "source": [
        "sum(i*i for i in range(10))                 # sum of squares\n",
        "\n",
        "\n",
        "xvec = [10, 20, 30]\n",
        "yvec = [7, 5, 3]\n",
        "sum(x*y for x,y in zip(xvec, yvec))         # dot product\n",
        "\n",
        "\n",
        "#unique_words = set(word for line in page  for word in line.split())\n",
        "\n",
        "#valedictorian = max((student.gpa, student.name) for student in graduates)\n",
        "\n",
        "data = 'golf'\n",
        "list(data[i] for i in range(len(data)-1, -1, -1))\n"
      ],
      "execution_count": null,
      "outputs": [
        {
          "output_type": "execute_result",
          "data": {
            "text/plain": [
              "['f', 'l', 'o', 'g']"
            ]
          },
          "metadata": {
            "tags": []
          },
          "execution_count": 117
        }
      ]
    },
    {
      "cell_type": "markdown",
      "metadata": {
        "id": "lDVwVSQ_xOCf"
      },
      "source": [
        "# Brief Tour of the Standard Library"
      ]
    },
    {
      "cell_type": "code",
      "metadata": {
        "colab": {
          "base_uri": "https://localhost:8080/"
        },
        "id": "RoqehL5meIIR",
        "outputId": "c20bcf38-e093-48ff-98df-eec2bfdca211"
      },
      "source": [
        "import os\n",
        "os.getcwd()      # Return the current working directory\n",
        "os.makedirs(\"/server/accesslogs\")\n",
        "os.chdir('/server/accesslogs')   # Change current working directory\n",
        "os.system('mkdir today')   # Run the command mkdir in the system shell"
      ],
      "execution_count": null,
      "outputs": [
        {
          "output_type": "execute_result",
          "data": {
            "text/plain": [
              "0"
            ]
          },
          "metadata": {
            "tags": []
          },
          "execution_count": 125
        }
      ]
    },
    {
      "cell_type": "code",
      "metadata": {
        "colab": {
          "base_uri": "https://localhost:8080/"
        },
        "id": "PzZWHXjFeH8_",
        "outputId": "3df25eb9-d936-46a3-f211-c052c4b6f411"
      },
      "source": [
        "import glob\n",
        "glob.glob('*.py')"
      ],
      "execution_count": null,
      "outputs": [
        {
          "output_type": "execute_result",
          "data": {
            "text/plain": [
              "[]"
            ]
          },
          "metadata": {
            "tags": []
          },
          "execution_count": 128
        }
      ]
    },
    {
      "cell_type": "code",
      "metadata": {
        "colab": {
          "base_uri": "https://localhost:8080/"
        },
        "id": "etmKwlZkeH48",
        "outputId": "c4dacad2-863d-4f16-8b61-ec5f1424b7eb"
      },
      "source": [
        "import sys\n",
        "print(sys.argv)\n"
      ],
      "execution_count": null,
      "outputs": [
        {
          "output_type": "stream",
          "text": [
            "['/usr/local/lib/python3.7/dist-packages/ipykernel_launcher.py', '-f', '/root/.local/share/jupyter/runtime/kernel-8da00751-545b-4d62-9800-bde61678f6a4.json']\n"
          ],
          "name": "stdout"
        }
      ]
    },
    {
      "cell_type": "code",
      "metadata": {
        "id": "YoNGNGUSIYoJ",
        "colab": {
          "base_uri": "https://localhost:8080/"
        },
        "outputId": "093d65d7-b89a-4dc1-dc9f-4d427d847e25"
      },
      "source": [
        "sys.stderr.write('Warning, log file not found starting a new one\\n')"
      ],
      "execution_count": null,
      "outputs": [
        {
          "output_type": "stream",
          "text": [
            "Warning, log file not found starting a new one\n"
          ],
          "name": "stderr"
        }
      ]
    },
    {
      "cell_type": "code",
      "metadata": {
        "id": "E5hLilqKTp21",
        "colab": {
          "base_uri": "https://localhost:8080/"
        },
        "outputId": "06302f49-99f8-4ce7-aaa7-159a9450b44b"
      },
      "source": [
        "from urllib.request import urlopen\n",
        "with urlopen('https://www.gazeteduvar.com.tr/') as response:\n",
        "    for line in response:\n",
        "        line = line.decode('utf-8')  # Decoding the binary data to text.\n",
        "        if 'Es' in line or 'EDT' in line:  # look for Eastern Time\n",
        "            print(line)\n",
        "\n"
      ],
      "execution_count": null,
      "outputs": [
        {
          "output_type": "stream",
          "text": [
            "                                                                                                                <a href=\"https://www.gazeteduvar.com.tr/esaddan-batiya-sandik-basinda-mesaj-fikirlerinin-degeri-sifir-haber-1523383\" title=\"Esad&#039;dan Batı&#039;ya sandık başında mesaj: Fikirlerinin değeri sıfır\" class=\"swiper-slide\">\n",
            "\n",
            "\t\t\t:lazy=\"true\" :resize=\"true\" alt=\"Esad&#039;dan Batı&#039;ya sandık başında mesaj: Fikirlerinin değeri sıfır\"\n",
            "\n",
            "\t\t\t\t<img src=\"https://i.gazeteduvar.com.tr/storage/files/images/2021/05/26/suriye3-oRdF_cover.jpg\" alt=\"Esad&#039;dan Batı&#039;ya sandık başında mesaj: Fikirlerinin değeri sıfır\">\n",
            "\n",
            "                                    <span class=\"title\">Esad&#039;dan Batı&#039;ya sandık başında mesaj: Fikirlerinin değeri sıfır</span>\n",
            "\n",
            "\t\t\tlazy-src=\"https://i.gazeteduvar.com.tr/{mode}/{width}/{height}/storage/files/images/2021/05/25/fotoram-EsJX_cover.jpg\"  style=\"position: absolute; left:0; right: 0; top:0; bottom:0;\" >\n",
            "\n",
            "\t\t\t\t<img src=\"https://i.gazeteduvar.com.tr/storage/files/images/2021/05/25/fotoram-EsJX_cover.jpg\" alt=\"2 dakikada 1 gün\">\n",
            "\n"
          ],
          "name": "stdout"
        }
      ]
    },
    {
      "cell_type": "code",
      "metadata": {
        "id": "EmNBf7vORqtW",
        "colab": {
          "base_uri": "https://localhost:8080/"
        },
        "outputId": "7e3260f7-d07a-4362-a6a3-29ca4989e0f0"
      },
      "source": [
        "# dates are easily constructed and formatted\n",
        "from datetime import date\n",
        "now = date.today()\n",
        "now\n",
        "\n",
        "now.strftime(\"%m-%d-%y. %d %b %Y is a %A on the %d day of %B.\")\n",
        "\n",
        "\n",
        "# dates support calendar arithmetic\n",
        "birthday = date(1964, 7, 31)\n",
        "age = now - birthday\n",
        "age.days"
      ],
      "execution_count": null,
      "outputs": [
        {
          "output_type": "execute_result",
          "data": {
            "text/plain": [
              "20753"
            ]
          },
          "metadata": {
            "tags": []
          },
          "execution_count": 138
        }
      ]
    },
    {
      "cell_type": "code",
      "metadata": {
        "id": "EGidu_e8nQ14"
      },
      "source": [
        "a = \"hello\"\n",
        "b = \"hello\"\n"
      ],
      "execution_count": null,
      "outputs": []
    },
    {
      "cell_type": "code",
      "metadata": {
        "colab": {
          "base_uri": "https://localhost:8080/"
        },
        "id": "E4sl8Hbin67U",
        "outputId": "1941f796-8930-4921-f37b-52e74089f02c"
      },
      "source": [
        "print(a is b)"
      ],
      "execution_count": null,
      "outputs": [
        {
          "output_type": "stream",
          "text": [
            "True\n"
          ],
          "name": "stdout"
        }
      ]
    },
    {
      "cell_type": "code",
      "metadata": {
        "colab": {
          "base_uri": "https://localhost:8080/"
        },
        "id": "1qwVzfmRnQx5",
        "outputId": "8dd9f860-1e18-4e78-839e-97d46c045772"
      },
      "source": [
        "print(a == b)"
      ],
      "execution_count": null,
      "outputs": [
        {
          "output_type": "stream",
          "text": [
            "True\n"
          ],
          "name": "stdout"
        }
      ]
    },
    {
      "cell_type": "code",
      "metadata": {
        "colab": {
          "base_uri": "https://localhost:8080/"
        },
        "id": "S6qqSJgxnQo2",
        "outputId": "0d5ceeb9-7a0a-423b-90b4-2c1cc69bfe53"
      },
      "source": [
        "print(id(a))\n",
        "print(id(b))"
      ],
      "execution_count": null,
      "outputs": [
        {
          "output_type": "stream",
          "text": [
            "139759629632176\n",
            "139759629632176\n"
          ],
          "name": "stdout"
        }
      ]
    },
    {
      "cell_type": "code",
      "metadata": {
        "id": "Ty4Uy4Gtnwhj"
      },
      "source": [
        ""
      ],
      "execution_count": null,
      "outputs": []
    },
    {
      "cell_type": "code",
      "metadata": {
        "id": "8BrtT3d6n2kv"
      },
      "source": [
        ""
      ],
      "execution_count": null,
      "outputs": []
    },
    {
      "cell_type": "code",
      "metadata": {
        "colab": {
          "base_uri": "https://localhost:8080/"
        },
        "id": "vDWvIPibnwdU",
        "outputId": "3b60a5b1-0677-409d-e4de-10934acfda26"
      },
      "source": [
        "a = [1,2,3,4,5]\n",
        "b = [1,2,3,4,5]\n",
        "\n",
        "print(a is b)\n",
        "print(a == b)\n",
        "print(id(a))\n",
        "print(id(b))"
      ],
      "execution_count": null,
      "outputs": [
        {
          "output_type": "stream",
          "text": [
            "False\n",
            "True\n",
            "139759494826896\n",
            "139759494379392\n"
          ],
          "name": "stdout"
        }
      ]
    },
    {
      "cell_type": "code",
      "metadata": {
        "colab": {
          "base_uri": "https://localhost:8080/"
        },
        "id": "zLoYGZi9nwZG",
        "outputId": "71c02924-9cfd-4cb1-d904-db4b5522e437"
      },
      "source": [
        "a = [1,2,3,4,5]\n",
        "b = [1,2,3,4,5]\n",
        "b = a\n",
        "print(a is b)\n",
        "print(a == b)\n",
        "print(id(a))\n",
        "print(id(b))"
      ],
      "execution_count": null,
      "outputs": [
        {
          "output_type": "stream",
          "text": [
            "True\n",
            "True\n",
            "139759494927136\n",
            "139759494927136\n"
          ],
          "name": "stdout"
        }
      ]
    },
    {
      "cell_type": "code",
      "metadata": {
        "id": "L0IhqwHxnwVM"
      },
      "source": [
        "b[0] = 1999"
      ],
      "execution_count": null,
      "outputs": []
    },
    {
      "cell_type": "code",
      "metadata": {
        "colab": {
          "base_uri": "https://localhost:8080/"
        },
        "id": "zRvbMOe3nwPZ",
        "outputId": "48bb7f9f-6ed0-47ce-c41f-70ba0cc10f27"
      },
      "source": [
        "a"
      ],
      "execution_count": null,
      "outputs": [
        {
          "output_type": "execute_result",
          "data": {
            "text/plain": [
              "[1999, 2, 3, 4, 5]"
            ]
          },
          "metadata": {
            "tags": []
          },
          "execution_count": 10
        }
      ]
    },
    {
      "cell_type": "code",
      "metadata": {
        "id": "HGUheXT6nwJN"
      },
      "source": [
        ""
      ],
      "execution_count": null,
      "outputs": []
    },
    {
      "cell_type": "code",
      "metadata": {
        "id": "D8BKbMb9nwDA"
      },
      "source": [
        ""
      ],
      "execution_count": null,
      "outputs": []
    },
    {
      "cell_type": "code",
      "metadata": {
        "id": "t9cUbAn7nv9h"
      },
      "source": [
        ""
      ],
      "execution_count": null,
      "outputs": []
    },
    {
      "cell_type": "code",
      "metadata": {
        "id": "CXMwpARDnv4-"
      },
      "source": [
        ""
      ],
      "execution_count": null,
      "outputs": []
    },
    {
      "cell_type": "code",
      "metadata": {
        "id": "-WsU_bn0nvz5"
      },
      "source": [
        ""
      ],
      "execution_count": null,
      "outputs": []
    },
    {
      "cell_type": "code",
      "metadata": {
        "id": "kAYww2zVnvtV"
      },
      "source": [
        ""
      ],
      "execution_count": null,
      "outputs": []
    }
  ]
}